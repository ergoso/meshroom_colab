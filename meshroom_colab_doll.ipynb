{
  "nbformat": 4,
  "nbformat_minor": 0,
  "metadata": {
    "colab": {
      "name": "meshroom_colab_doll.ipynb",
      "provenance": [],
      "collapsed_sections": [],
      "include_colab_link": true
    },
    "kernelspec": {
      "name": "python3",
      "display_name": "Python 3"
    },
    "accelerator": "GPU"
  },
  "cells": [
    {
      "cell_type": "markdown",
      "metadata": {
        "id": "view-in-github",
        "colab_type": "text"
      },
      "source": [
        "<a href=\"https://colab.research.google.com/github/paramphy/meshroom_colab/blob/master/meshroom_colab_doll.ipynb\" target=\"_parent\"><img src=\"https://colab.research.google.com/assets/colab-badge.svg\" alt=\"Open In Colab\"/></a>"
      ]
    },
    {
      "cell_type": "markdown",
      "metadata": {
        "id": "6D1SKq3vGC0x",
        "colab_type": "text"
      },
      "source": [
        "# **Meshroom execution Script for Colab**\n",
        "\n",
        "---\n",
        "\n",
        "This is a script for using Meshroom in Google Collab\n",
        "Steps\n",
        "\n",
        "*   Make sure you have GPU enabled in your kernel\n",
        "*   Use wget to download your file into the kernel. This code does not support compressed file formats till now so upload all images in a folder.\n",
        "*   Give a name of the output folder. The output will be available for download in *.tar.gz format\n",
        "\n",
        "\n"
      ]
    },
    {
      "cell_type": "markdown",
      "metadata": {
        "id": "Ed0HT6yiizAD",
        "colab_type": "text"
      },
      "source": [
        "## **Provide the folder path name which contains the collection of images.**"
      ]
    },
    {
      "cell_type": "code",
      "metadata": {
        "id": "_KlR94_RBD4R",
        "colab_type": "code",
        "colab": {}
      },
      "source": [
        "#@title Setting file location\n",
        "image_folder_path = 'https://www.agisoft.com/datasets/doll.zip' #@param {type: \"string\"}\n",
        "output_folder_name = 'doll_out' #@param {type: \"string\"}\n",
        "output_filename = output_folder_name + '.tar.gz'\n"
      ],
      "execution_count": 0,
      "outputs": []
    },
    {
      "cell_type": "code",
      "metadata": {
        "id": "KSgvQczbAKQr",
        "colab_type": "code",
        "colab": {}
      },
      "source": [
        "from google.colab import files"
      ],
      "execution_count": 0,
      "outputs": []
    },
    {
      "cell_type": "markdown",
      "metadata": {
        "id": "vUGmqMD_jKLf",
        "colab_type": "text"
      },
      "source": [
        "Downloadeing the image folder in the working directory"
      ]
    },
    {
      "cell_type": "code",
      "metadata": {
        "id": "-Z7nyBjmGXZ9",
        "colab_type": "code",
        "colab": {}
      },
      "source": [
        "!wget -N $image_folder_path"
      ],
      "execution_count": 0,
      "outputs": []
    },
    {
      "cell_type": "markdown",
      "metadata": {
        "id": "eqP9F_WijUkj",
        "colab_type": "text"
      },
      "source": [
        "Provide the actual name of the downloaded folder"
      ]
    },
    {
      "cell_type": "code",
      "metadata": {
        "id": "m-g276zHEsMv",
        "colab_type": "code",
        "colab": {}
      },
      "source": [
        "#@title Downloaded File Format\n",
        "#@markdown Please provide the actual name of the image folder\n",
        "\n",
        "downloaded_folder_name = \"doll\" #@param {type:\"string\"}\n",
        " \n",
        "\n"
      ],
      "execution_count": 0,
      "outputs": []
    },
    {
      "cell_type": "markdown",
      "metadata": {
        "id": "2l035YmejbgI",
        "colab_type": "text"
      },
      "source": [
        "Getting Meshroom "
      ]
    },
    {
      "cell_type": "code",
      "metadata": {
        "id": "iNPizsvpCy-i",
        "colab_type": "code",
        "colab": {}
      },
      "source": [
        "!wget -N https://github.com/alicevision/meshroom/releases/download/v2019.1.0/Meshroom-2019.1.0-linux.tar.gz"
      ],
      "execution_count": 0,
      "outputs": []
    },
    {
      "cell_type": "markdown",
      "metadata": {
        "id": "avUVJ6YCjizX",
        "colab_type": "text"
      },
      "source": [
        "Making a Directory named meshroom"
      ]
    },
    {
      "cell_type": "code",
      "metadata": {
        "id": "bFV-sa9NDAW5",
        "colab_type": "code",
        "colab": {}
      },
      "source": [
        "!mkdir meshroom"
      ],
      "execution_count": 0,
      "outputs": []
    },
    {
      "cell_type": "markdown",
      "metadata": {
        "id": "jDuawS1GjqI2",
        "colab_type": "text"
      },
      "source": [
        "Unpacking Meshroom inside meshroom directory"
      ]
    },
    {
      "cell_type": "code",
      "metadata": {
        "id": "yKpe_u8nDEMr",
        "colab_type": "code",
        "colab": {}
      },
      "source": [
        "!tar xzf Meshroom-2019.1.0-linux.tar.gz -C ./meshroom"
      ],
      "execution_count": 0,
      "outputs": []
    },
    {
      "cell_type": "markdown",
      "metadata": {
        "id": "r28NF5Gbj1E-",
        "colab_type": "text"
      },
      "source": [
        "Making output folder"
      ]
    },
    {
      "cell_type": "code",
      "metadata": {
        "id": "waJxNeZBDJ5u",
        "colab_type": "code",
        "colab": {}
      },
      "source": [
        "!mkdir ./$output_folder_name"
      ],
      "execution_count": 0,
      "outputs": []
    },
    {
      "cell_type": "markdown",
      "metadata": {
        "id": "bzvPRMIkj41m",
        "colab_type": "text"
      },
      "source": [
        "Running Mesxhroom"
      ]
    },
    {
      "cell_type": "code",
      "metadata": {
        "id": "D0hxJ5GeDPsF",
        "colab_type": "code",
        "colab": {}
      },
      "source": [
        "!./meshroom/Meshroom-2019.1.0/meshroom_photogrammetry --input ./$downloaded_folder_name --output ./$output_folder_name"
      ],
      "execution_count": 0,
      "outputs": []
    },
    {
      "cell_type": "markdown",
      "metadata": {
        "id": "jheKC6Ttj7w-",
        "colab_type": "text"
      },
      "source": [
        "Creating a .tar.gz output file"
      ]
    },
    {
      "cell_type": "code",
      "metadata": {
        "id": "EmhP9i1E63xM",
        "colab_type": "code",
        "colab": {}
      },
      "source": [
        "!tar -czvf $output_filename ./$output_folder_name"
      ],
      "execution_count": 0,
      "outputs": []
    },
    {
      "cell_type": "markdown",
      "metadata": {
        "id": "yxRI9QcekCmj",
        "colab_type": "text"
      },
      "source": [
        "Downloading file"
      ]
    },
    {
      "cell_type": "code",
      "metadata": {
        "id": "wDt7tjje7AeL",
        "colab_type": "code",
        "colab": {}
      },
      "source": [
        "files.download(output_filename)"
      ],
      "execution_count": 0,
      "outputs": []
    }
  ]
}